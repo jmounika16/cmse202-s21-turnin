{
 "cells": [
  {
   "cell_type": "markdown",
   "metadata": {
    "id": "F3mTTjcyJ-sp"
   },
   "source": [
    "### <p style=\"text-align: right;\"> &#9989; Mounika Jetti.</p>"
   ]
  },
  {
   "cell_type": "markdown",
   "metadata": {
    "id": "t2Siy3GUJ-s3"
   },
   "source": [
    "# Homework Assignment #5 (Individual)\n",
    "\n",
    "## Using SVMs and PCA with familiar data: The Iris Dataset\n",
    "\n",
    "### Goals for this homework assignment\n",
    "\n",
    "By the end of this assignment, you should be able to:\n",
    "* Use `git` to track your work and turn in your assignment\n",
    "* Read in data and prepare it for modeling\n",
    "* Build, fit, and evaluate an SVC model of data\n",
    "* Use PCA to reduce the number of important features\n",
    "* Build, fit, and evaluate an SVC model of PCA-transformed data\n",
    "* Systematically investigate the effects of the number of PCA components on an SVC model of data\n",
    "\n",
    "### Assignment instructions:\n",
    "\n",
    "Work through the following assignment, making sure to follow all of the directions and answer all of the questions.\n",
    "\n",
    "There are **44 points (+2 bonus points)** possible on this assignment. Point values for each part are included in the section headers.\n",
    "\n",
    "This assignment is **due at 11:59 pm on Friday, April 15. It should be pushed to your repo (see Part 1) and submitted to D2L**. \n",
    "\n",
    "#### Imports\n",
    "\n",
    "It's useful to put all of the imports you need for this assignment in one place. Read through the assignment to figure out which imports you'll need or add them here as you go."
   ]
  },
  {
   "cell_type": "code",
   "execution_count": 229,
   "metadata": {
    "id": "zRqPMPr_J-s5"
   },
   "outputs": [],
   "source": [
    "# Put all necessary imports here\n",
    "import numpy as np \n",
    "import pandas as pd\n",
    "import matplotlib.pyplot as plt\n",
    "from urllib.request import urlopen, urlretrieve\n",
    "\n",
    "from sklearn.svm import SVC\n",
    "from sklearn.decomposition import PCA\n",
    "from sklearn.model_selection import train_test_split\n",
    "from sklearn.model_selection import GridSearchCV\n",
    "from sklearn.metrics import accuracy_score\n",
    "from sklearn.metrics import classification_report\n",
    "from sklearn.metrics import confusion_matrix"
   ]
  },
  {
   "cell_type": "markdown",
   "metadata": {
    "id": "Izf4oP22J-s6"
   },
   "source": [
    "---\n",
    "## 1. Add to your Git repository to track your progress on your assignment (4 points)\n",
    "\n",
    "As usual, for this assignment, you're going to add it to the `cmse202-s21-turnin` repository you created in class so that you can track your progress on the assignment and preserve the final version that you turn in. In order to do this you need to\n",
    "\n",
    "**&#9989; Do the following**:\n",
    "\n",
    "1. Navigate to your `cmse202-s21-turnin` repository and create a new directory called `hw-05`.\n",
    "2. Move this notebook into that **new directory** in your repository, then **add it and commit it to your repository**.\n",
    "1. Finally, to test that everything is working, \"git push\" the file so that it ends up in your GitHub repository.\n",
    "\n",
    "**Important**: Make sure you've added your Professor and your TA as collaborators to your \"turnin\" respository with \"Read\" access so that we can see your assignment (you should have done this in the previous homework assignment)\n",
    "\n",
    "**Also important**: Make sure that the version of this notebook that you are working on is the same one that you just added to your repository! If you are working on a different copy of the noteobok, **none of your changes will be tracked**!\n",
    "\n",
    "If everything went as intended, the file should now show up on your GitHub account in the \"`cmse202-s21-turnin`\" repository inside the `hw-05` directory that you just created.  Periodically, **you'll be asked to commit your changes to the repository and push them to the remote GitHub location**. Of course, you can always commit your changes more often than that, if you wish.  It can be good to get into a habit of committing your changes any time you make a significant modification, or when you stop working on the project for a bit.\n",
    "\n",
    "&#9989; **Do this**: Before you move on, put the command that your instructor should run to clone your repository in the markdown cell below."
   ]
  },
  {
   "cell_type": "markdown",
   "metadata": {
    "id": "2gOatIKwJ-s8"
   },
   "source": [
    "``` bash\n",
    "# git clone https://github.com/jmounika16/cmse202-s21-turnin.git\n",
    "\n",
    "```"
   ]
  },
  {
   "cell_type": "markdown",
   "metadata": {
    "id": "-EpblnyKJ-s9"
   },
   "source": [
    "---\n",
    "<a id=\"loading\"></a>\n",
    "## 2. Loading a familiar dataset: The iris data (6 points)\n",
    "\n",
    "We've the seen the iris dataset a number of times in the course so far, and since the goal for this assignment is to practice using the SVM and PCA tools we've covered in class, we'll stick with using this simple dataset and avoid any complicated data wrangling headaches. As a reminder: you can find details about the dataset <a href=\"https://en.wikipedia.org/wiki/Iris_flower_data_set\">here</a>. \n",
    " \n",
    "#### The Iris data\n",
    "\n",
    "As we've seen, the iris data set is pretty straight forward. Rather than working with a perfectly curated data set though, we'll use the same version of the data that we first looked at during the **Day 6 in-class activity**.\n",
    "\n",
    "**&#9989; Do This:**  To get started, **you'll need to download the following two files** (or located them from when you used them previously):\n",
    "\n",
    "`https://raw.githubusercontent.com/msu-cmse-courses/cmse202-S21-student/master/data/iris.data`\n",
    "\n",
    "`https://raw.githubusercontent.com/msu-cmse-courses/cmse202-S21-student/master/data/iris.names`\n",
    "\n",
    "Once you've downloaded the data or copied it over from where your saved it previously, you should have access to the following : `iris.data` and `iris.names`.\n",
    "\n",
    "**Open the files using a text browser or other tool on your computer and confirm that they match your expectations and contain the data that we've worked with before.**"
   ]
  },
  {
   "cell_type": "code",
   "execution_count": 230,
   "metadata": {
    "colab": {
     "base_uri": "https://localhost:8080/"
    },
    "id": "IoQvU7waFGJM",
    "outputId": "041e5e50-297e-485d-90be-1c75b32cef44"
   },
   "outputs": [
    {
     "data": {
      "text/plain": [
       "('iris.names', <http.client.HTTPMessage at 0x7fc5e967c650>)"
      ]
     },
     "execution_count": 230,
     "metadata": {
      "tags": []
     },
     "output_type": "execute_result"
    }
   ],
   "source": [
    "urlretrieve('https://raw.githubusercontent.com/msu-cmse-courses/cmse202-S21-student/master/data/iris.data', 'iris.data')\n",
    "urlretrieve('https://raw.githubusercontent.com/msu-cmse-courses/cmse202-S21-student/master/data/iris.names', 'iris.names')\n"
   ]
  },
  {
   "cell_type": "markdown",
   "metadata": {
    "id": "qcHly0MbJ-s-"
   },
   "source": [
    "### 2.1 Load the data\n",
    "\n",
    "**&#9989; Task 2.1 (2 points):** Read the ```iris.data``` file into your notebook **with appropriate column headers**. Since we are planning on classifying the data, you should label the fifth column `class`, which should have the iris species class labels:\n",
    "* \"Iris-setosa\"\n",
    "* \"Iris-versicolor\"\n",
    "* \"Iris-virginica\"\n",
    "\n",
    "Display the DataFrame to make sure it looks reasonable. You should have **5 columns** and **150 rows**."
   ]
  },
  {
   "cell_type": "code",
   "execution_count": 231,
   "metadata": {
    "colab": {
     "base_uri": "https://localhost:8080/"
    },
    "id": "u6AzljAVJ-tA",
    "outputId": "526951a5-57da-46c0-8689-0e7ed31ec31a"
   },
   "outputs": [
    {
     "name": "stdout",
     "output_type": "stream",
     "text": [
      "       0    1    2    3               4\n",
      "0    5.1  3.5  1.4  0.2     Iris-setosa\n",
      "1    4.9  3.0  1.4  0.2     Iris-setosa\n",
      "2    4.7  3.2  1.3  0.2     Iris-setosa\n",
      "3    4.6  3.1  1.5  0.2     Iris-setosa\n",
      "4    5.0  3.6  1.4  0.2     Iris-setosa\n",
      "..   ...  ...  ...  ...             ...\n",
      "145  6.7  3.0  5.2  2.3  Iris-virginica\n",
      "146  6.3  2.5  5.0  1.9  Iris-virginica\n",
      "147  6.5  3.0  5.2  2.0  Iris-virginica\n",
      "148  6.2  3.4  5.4  2.3  Iris-virginica\n",
      "149  5.9  3.0  5.1  1.8  Iris-virginica\n",
      "\n",
      "[150 rows x 5 columns]\n"
     ]
    }
   ],
   "source": [
    "df = pd.read_csv('iris.data', header=None, delim_whitespace=True)\n",
    "print(df)"
   ]
  },
  {
   "cell_type": "code",
   "execution_count": 232,
   "metadata": {
    "colab": {
     "base_uri": "https://localhost:8080/"
    },
    "id": "wBoy18NxIRpd",
    "outputId": "ab37dcfc-9f5d-43f4-d3c9-db12fa2d0cac"
   },
   "outputs": [
    {
     "name": "stdout",
     "output_type": "stream",
     "text": [
      "0         Iris-setosa\n",
      "1         Iris-setosa\n",
      "2         Iris-setosa\n",
      "3         Iris-setosa\n",
      "4         Iris-setosa\n",
      "            ...      \n",
      "145    Iris-virginica\n",
      "146    Iris-virginica\n",
      "147    Iris-virginica\n",
      "148    Iris-virginica\n",
      "149    Iris-virginica\n",
      "Name: Class, Length: 150, dtype: object\n"
     ]
    }
   ],
   "source": [
    "df.rename(columns = {4:'Class'}, inplace = True)\n",
    "print(df['Class'])"
   ]
  },
  {
   "cell_type": "markdown",
   "metadata": {
    "id": "XTlVAeZsJ-tA"
   },
   "source": [
    "### 2.2 Relabeling the classes\n",
    "\n",
    "To simplify the process of modeling the iris data, we should convert the class labels from strings to integers. For example, rather than `Iris-setosa`, we can consider this to be class \"`0`\".\n",
    "\n",
    "**&#9989; Task 2.2 (2 points):** Replace all of the strings in your \"class\" column with integers based on the following:\n",
    "\n",
    "| original label | replaced label |\n",
    "| -------- | -------- |\n",
    "| Iris-setosa | 0 |\n",
    "| Iris-versicolor | 1 |\n",
    "| Iris-virginica | 2 |\n",
    "\n",
    "Once you've replaced the labels, display your DataFrame and confirm that it looks correct."
   ]
  },
  {
   "cell_type": "code",
   "execution_count": 233,
   "metadata": {
    "colab": {
     "base_uri": "https://localhost:8080/"
    },
    "id": "Tyzw0rz6J-tB",
    "outputId": "d22d33b8-f1af-4e5b-8e89-1cb34331a4a2"
   },
   "outputs": [
    {
     "name": "stdout",
     "output_type": "stream",
     "text": [
      "       0    1    2    3  Class\n",
      "0    5.1  3.5  1.4  0.2      0\n",
      "1    4.9  3.0  1.4  0.2      0\n",
      "2    4.7  3.2  1.3  0.2      0\n",
      "3    4.6  3.1  1.5  0.2      0\n",
      "4    5.0  3.6  1.4  0.2      0\n",
      "..   ...  ...  ...  ...    ...\n",
      "145  6.7  3.0  5.2  2.3      2\n",
      "146  6.3  2.5  5.0  1.9      2\n",
      "147  6.5  3.0  5.2  2.0      2\n",
      "148  6.2  3.4  5.4  2.3      2\n",
      "149  5.9  3.0  5.1  1.8      2\n",
      "\n",
      "[150 rows x 5 columns]\n"
     ]
    }
   ],
   "source": [
    "mapping = {'Iris-setosa': 0, 'Iris-versicolor': 1, 'Iris-virginica': 2}\n",
    "df.Class = [mapping[item] for item in df.Class]\n",
    "print(df)"
   ]
  },
  {
   "cell_type": "markdown",
   "metadata": {
    "id": "Sq3ex8mQJ-tC"
   },
   "source": [
    "### 2.3 Separating the \"features\" from the \"labels\"\n",
    "\n",
    "As we've seen when working with `sklearn` it can be much easier to work with the data if we have separate variables that store the features and the labels.\n",
    "\n",
    "**&#9989; Task 2.3 (1 point):** Split your DataFrame so that you have two separate DataFrames, one called `features`, which contains all of the iris features, and one called `labels`, which contains all of the *new* iris integer labels you just created."
   ]
  },
  {
   "cell_type": "code",
   "execution_count": 234,
   "metadata": {
    "colab": {
     "base_uri": "https://localhost:8080/"
    },
    "id": "SoLP2AjdJ-tC",
    "outputId": "20c51cbd-93ea-4ca4-f92a-bfafe168340e"
   },
   "outputs": [
    {
     "name": "stdout",
     "output_type": "stream",
     "text": [
      "       0    1    2    3\n",
      "0    5.1  3.5  1.4  0.2\n",
      "1    4.9  3.0  1.4  0.2\n",
      "2    4.7  3.2  1.3  0.2\n",
      "3    4.6  3.1  1.5  0.2\n",
      "4    5.0  3.6  1.4  0.2\n",
      "..   ...  ...  ...  ...\n",
      "145  6.7  3.0  5.2  2.3\n",
      "146  6.3  2.5  5.0  1.9\n",
      "147  6.5  3.0  5.2  2.0\n",
      "148  6.2  3.4  5.4  2.3\n",
      "149  5.9  3.0  5.1  1.8\n",
      "\n",
      "[150 rows x 4 columns]\n",
      "     Class\n",
      "0        0\n",
      "1        0\n",
      "2        0\n",
      "3        0\n",
      "4        0\n",
      "..     ...\n",
      "145      2\n",
      "146      2\n",
      "147      2\n",
      "148      2\n",
      "149      2\n",
      "\n",
      "[150 rows x 1 columns]\n"
     ]
    }
   ],
   "source": [
    "features, labels = df.iloc[:, :-1], df.iloc[:, [-1]]\n",
    "print(features)\n",
    "print(labels)"
   ]
  },
  {
   "cell_type": "markdown",
   "metadata": {
    "id": "f_A-B7c3J-tD"
   },
   "source": [
    "&#9989; **Question 2.1 (1 point):** How balanced is your set of iris classes? Does it matter for the set of classes to be balanced? Why or why not?"
   ]
  },
  {
   "cell_type": "code",
   "execution_count": 235,
   "metadata": {
    "colab": {
     "base_uri": "https://localhost:8080/"
    },
    "id": "XHZNpz8nMY92",
    "outputId": "61ca8143-f540-4192-d18d-e02eb10edd83"
   },
   "outputs": [
    {
     "data": {
      "text/plain": [
       "Class\n",
       "2        33.333333\n",
       "1        33.333333\n",
       "0        33.333333\n",
       "dtype: float64"
      ]
     },
     "execution_count": 235,
     "metadata": {
      "tags": []
     },
     "output_type": "execute_result"
    }
   ],
   "source": [
    "labels.value_counts(normalize=True) * 100"
   ]
  },
  {
   "cell_type": "markdown",
   "metadata": {
    "id": "fxFb3oECJ-tD"
   },
   "source": [
    "<font size=+3>&#9998;</font> **Iris classes are perfectly balanced in the dataset. There are 50 instances of each class in the total dataset of 150. Yes, it matters most of the time otherwise accuracy for less-frequent class will be low and misleads in prediction.** "
   ]
  },
  {
   "cell_type": "markdown",
   "metadata": {
    "id": "Gno7AQ3UJ-tE"
   },
   "source": [
    "---\n",
    "### &#128721; STOP\n",
    "**Pause to commit your changes to your Git repository!**\n",
    "\n",
    "Take a moment to save your notebook, commit the changes to your Git repository using the commit message \"Committing Part 2\", and push the changes to GitHub.\n",
    "\n",
    "---"
   ]
  },
  {
   "cell_type": "markdown",
   "metadata": {
    "id": "YMqwW1dYJ-tE"
   },
   "source": [
    "---\n",
    "## 3. Building an SVC model (4 points)\n",
    "\n",
    "Now, to tackle this classification problem, we will use a support vector machine just like we've done previously (e.g. in the **Day 19 and Day 20 assignments**). Of course, we could easily replace this with any `sklearn` classifier we choose, but for now we will just use an SVC with a linear kernel.\n",
    "\n",
    "### 3.1 Splitting the data\n",
    "\n",
    "But first, we need to split our data into training and testing data!\n",
    "\n",
    "**&#9989; Task 3.1 (1 point):** Split your data into a training and testing set with a training set representing 75% of your data. For reproducibility , set the `random_state` argument to `314159`. Print the lengths to show you have the right number of entries."
   ]
  },
  {
   "cell_type": "code",
   "execution_count": 236,
   "metadata": {
    "id": "YoTixoQbJ-tF"
   },
   "outputs": [],
   "source": [
    "x_train, x_test, y_train, y_test = train_test_split(features, labels, test_size=0.25, random_state=314159)\n",
    "y_train = np.array(y_train).reshape(len(y_train), )\n",
    "y_test = np.array(y_test).reshape(len(y_test), )"
   ]
  },
  {
   "cell_type": "code",
   "execution_count": 237,
   "metadata": {
    "colab": {
     "base_uri": "https://localhost:8080/"
    },
    "id": "d2qIlpzLTULd",
    "outputId": "79296ddf-ecff-438a-f96e-78a29d447b30"
   },
   "outputs": [
    {
     "name": "stdout",
     "output_type": "stream",
     "text": [
      "112 112\n",
      "38 38\n"
     ]
    }
   ],
   "source": [
    "print(len(x_train), len(y_train))\n",
    "print(len(x_test), len(y_test))"
   ]
  },
  {
   "cell_type": "markdown",
   "metadata": {
    "id": "aeXrT9e5J-tG"
   },
   "source": [
    "### 3.2 Modeling the data and evaluating the fit\n",
    "\n",
    "As you have done this a number of times at this point, we ask you to do most of the analysis for this problem in one cell.\n",
    "\n",
    "**&#9989; Task 3.2 (2 points):** Build a linear SVC model with `C=0.01`, fit it to the training set, and use the test features to predict the outcomes. Evaluate the fit using the **confusion matrix** and **classification report**.\n",
    "\n",
    "**Note:** Double-check the documentation on the confusion matrix because the way `sklearn` outputs false positives and false negatives may be different from what most images on the web indicate."
   ]
  },
  {
   "cell_type": "code",
   "execution_count": 238,
   "metadata": {
    "colab": {
     "base_uri": "https://localhost:8080/"
    },
    "id": "T3Qzm6FbJ-tG",
    "outputId": "7faa73d9-4958-4d79-dd34-ae2385929cce"
   },
   "outputs": [
    {
     "name": "stdout",
     "output_type": "stream",
     "text": [
      "Classification Report\n",
      "======================\n",
      "              precision    recall  f1-score   support\n",
      "\n",
      "     class 0       1.00      1.00      1.00        14\n",
      "     class 1       0.79      0.92      0.85        12\n",
      "     class 2       0.90      0.75      0.82        12\n",
      "\n",
      "    accuracy                           0.89        38\n",
      "   macro avg       0.90      0.89      0.89        38\n",
      "weighted avg       0.90      0.89      0.89        38\n",
      "\n",
      "Confusion Matrix\n",
      "======================\n",
      "[[14  0  0]\n",
      " [ 0 11  1]\n",
      " [ 0  3  9]]\n"
     ]
    }
   ],
   "source": [
    "linear_svc = SVC(C=0.01, kernel='linear')\n",
    "linear_svc.fit(x_train, y_train)\n",
    "y_predicted = linear_svc.predict(x_test)\n",
    "target_names = ['class 0', 'class 1', 'class 2']\n",
    "\n",
    "print(\"Classification Report\")\n",
    "print(\"======================\")\n",
    "print(classification_report(y_test, y_predicted, target_names=target_names))\n",
    "\n",
    "print(\"Confusion Matrix\")\n",
    "print(\"======================\")\n",
    "print(confusion_matrix(y_test, y_predicted))"
   ]
  },
  {
   "cell_type": "markdown",
   "metadata": {
    "id": "wKKeo9ZdJ-tH"
   },
   "source": [
    "&#9989; **Question 3.1 (1 point):** How accurate is your model? What evidence are you using to determine that? How many false positives and false negatives does it predict?"
   ]
  },
  {
   "cell_type": "code",
   "execution_count": 239,
   "metadata": {
    "colab": {
     "base_uri": "https://localhost:8080/"
    },
    "id": "ufN2hLHyZAg-",
    "outputId": "3e39bf8b-97de-4163-8ff0-64ef00296a38"
   },
   "outputs": [
    {
     "name": "stdout",
     "output_type": "stream",
     "text": [
      "0.8947368421052632\n"
     ]
    }
   ],
   "source": [
    "print(accuracy_score(y_test, y_predicted))"
   ]
  },
  {
   "cell_type": "markdown",
   "metadata": {
    "id": "4QGUO1WbJ-tH"
   },
   "source": [
    "<font size=+3>&#9998;</font> **From the classification report as well as accuracy score function, model accuracy is found to be around 89%. So it predicted a total of 4 false positive and false negatives out of 38 test cases. And (4/38)*100 = 10.5% so 100 - 10.5% = 89.5% is actcually our model accuracy.**"
   ]
  },
  {
   "cell_type": "markdown",
   "metadata": {
    "id": "jYWyWz12J-tI"
   },
   "source": [
    "---\n",
    "### &#128721; STOP\n",
    "**Pause to commit your changes to your Git repository!**\n",
    "\n",
    "Take a moment to save your notebook, commit the changes to your Git repository using the commit message \"Committing Part 3\", and push the changes to GitHub.\n",
    "\n",
    "---"
   ]
  },
  {
   "cell_type": "markdown",
   "metadata": {
    "id": "-yf8j0yCJ-tI"
   },
   "source": [
    "---\n",
    "## 4. Finding and using the best hyperparameters (8 points)\n",
    "\n",
    "At this point, we have fit one model and determined it's performance, but is it the best model? We can use `GridSearchCV` to find the best model (given our choices of parameters). Once we do that, we will use that best model going forward. This is similar to what we did when working with the \"digits\" data and the \"faces\" data in the **Day 20 and Day 21 assignments**.\n",
    "\n",
    "**Note:** you would typically rerun this grid search in a production environment to continue to verify the best model, but we are not for the sake of speed.\n",
    "\n",
    "### 4.1 Performing a grid search\n",
    "\n",
    "**&#9989; Task 4.1 (4 points):** Using the following parameters (`C` = `1e-3`, `0.01`, `0.1`, `1`, `10`, `100` and `gamma` = `1e-6`, `1e-5`, `1e-4`, `1e-3`, `0.01`, `0.1`) for both a `linear` and `rbf` kernel use `GridSearchCV` with the `SVC()` model to find the best fit parameters. Once, you're run the grid search, print the \"best estimators\"."
   ]
  },
  {
   "cell_type": "code",
   "execution_count": 240,
   "metadata": {
    "colab": {
     "base_uri": "https://localhost:8080/"
    },
    "id": "dNMkFG9HJ-tJ",
    "outputId": "d5b6680c-c5bf-4af5-e106-34315079bb2a"
   },
   "outputs": [
    {
     "name": "stdout",
     "output_type": "stream",
     "text": [
      "Fitting the classifier to the training set\n",
      "Best estimator found by grid search:\n",
      "SVC(C=10, break_ties=False, cache_size=200, class_weight='balanced', coef0=0.0,\n",
      "    decision_function_shape='ovr', degree=3, gamma=1e-06, kernel='linear',\n",
      "    max_iter=-1, probability=False, random_state=None, shrinking=True,\n",
      "    tol=0.001, verbose=False)\n",
      "Best parameters found by grid search:\n",
      "{'C': 10, 'gamma': 1e-06, 'kernel': 'linear'}\n"
     ]
    }
   ],
   "source": [
    "# make some temporary variables so you can change this easily\n",
    "tmp_features = x_train\n",
    "tmp_labels = y_train\n",
    "\n",
    "print(\"Fitting the classifier to the training set\")\n",
    "# a dictionary of hyperparameters: key is the name of the parameter, value is a list of values to test\n",
    "param_grid = {'C': [1e-3, 0.01, 0.1, 1, 10, 100],\n",
    "              'gamma': [1e-6, 1e-5, 1e-4, 1e-3, 0.01],\n",
    "              'kernel': ['linear','rbf']}\n",
    "# make a classifier by searching over a classifier and the parameter grid\n",
    "clf = GridSearchCV(SVC(class_weight='balanced'), param_grid)\n",
    "\n",
    "# we have a \"good\" classifier (according to GridSearchCV), how's it look\n",
    "clf = clf.fit(tmp_features, tmp_labels)\n",
    "print(\"Best estimator found by grid search:\")\n",
    "print(clf.best_estimator_)\n",
    "print(\"Best parameters found by grid search:\")\n",
    "print(clf.best_params_)\n"
   ]
  },
  {
   "cell_type": "markdown",
   "metadata": {
    "id": "6p0n0DdkJ-tK"
   },
   "source": [
    "&#9989; **Question 4.1 (1 point):** How do the \"best estimator\" results of the grid search compare to what you used in Part 3? Did the hyper parameter(s) change? What kernel did the grid search determine was the best option? "
   ]
  },
  {
   "cell_type": "markdown",
   "metadata": {
    "id": "dfbyn43YJ-tL"
   },
   "source": [
    "<font size=+3>&#9998;</font> **The value of C is quite different from the part 3. Yes, the hyperparamter changed. The best kernel determined by gird search is 'linear' one.**  "
   ]
  },
  {
   "cell_type": "markdown",
   "metadata": {
    "id": "f7n8QzBSJ-tL"
   },
   "source": [
    "### 4.2 Evaluating the best fit model\n",
    "\n",
    "Now that we have found the \"best estimators\", let's determine how good the fit is.\n",
    "\n",
    "**&#9989; Task 4.2 (2 points):** Use the test features to predict the outcomes for the best model. Evaluate the fit using the **confusion matrix** and **classification report**.\n",
    "\n",
    "**Note:** Double-check the documentation on the confusion matrix because the way `sklearn` outputs false positives and false negatives may be different from what most images on the web indicate."
   ]
  },
  {
   "cell_type": "code",
   "execution_count": 241,
   "metadata": {
    "colab": {
     "base_uri": "https://localhost:8080/"
    },
    "id": "eatPVl8DJ-tM",
    "outputId": "02e5dca6-88dc-45a9-ac31-8c60bc757390"
   },
   "outputs": [
    {
     "name": "stdout",
     "output_type": "stream",
     "text": [
      "Classification Report\n",
      "======================\n",
      "              precision    recall  f1-score   support\n",
      "\n",
      "     class 0       1.00      1.00      1.00        14\n",
      "     class 1       1.00      0.83      0.91        12\n",
      "     class 2       0.86      1.00      0.92        12\n",
      "\n",
      "    accuracy                           0.95        38\n",
      "   macro avg       0.95      0.94      0.94        38\n",
      "weighted avg       0.95      0.95      0.95        38\n",
      "\n",
      "Confusion Matrix\n",
      "======================\n",
      "[[14  0  0]\n",
      " [ 0 10  2]\n",
      " [ 0  0 12]]\n"
     ]
    }
   ],
   "source": [
    "y_predicted = clf.predict(x_test)\n",
    "target_names = ['class 0', 'class 1', 'class 2']\n",
    "\n",
    "print(\"Classification Report\")\n",
    "print(\"======================\")\n",
    "print(classification_report(y_test, y_predicted, target_names=target_names))\n",
    "\n",
    "print(\"Confusion Matrix\")\n",
    "print(\"======================\")\n",
    "print(confusion_matrix(y_test, y_predicted))\n",
    "\n",
    "linear_svc_model2 = SVC(C=10, gamma=1e-06, kernel='linear')\n",
    "linear_svc_model2.fit(x_train, y_train)\n",
    "y_predicted = linear_svc_model2.predict(x_test)\n",
    "target_names = ['class 0', 'class 1', 'class 2']"
   ]
  },
  {
   "cell_type": "markdown",
   "metadata": {
    "id": "JYfdKEd6J-tM"
   },
   "source": [
    "&#9989; **Question 4.2 (1 point):** How accurate is this best model? What evidence are you using to determine that? How many false positives and false negatives does it predict?"
   ]
  },
  {
   "cell_type": "markdown",
   "metadata": {
    "id": "r5r_RFhXJ-tN"
   },
   "source": [
    "<font size=+3>&#9998;</font> **From the classification report, model accuracy is found to be around 95%. So it predicted a total of 2 false positive and false negatives out of 38 test cases. And (2/38)*100 = 5.2% so 100 - 5.2% = 95% (approx.) is actcually our model accuracy.**"
   ]
  },
  {
   "cell_type": "markdown",
   "metadata": {
    "id": "DtCVIvMkJ-tN"
   },
   "source": [
    "---\n",
    "### &#128721; STOP\n",
    "**Pause to commit your changes to your Git repository!**\n",
    "\n",
    "Take a moment to save your notebook, commit the changes to your Git repository using the commit message \"Committing Part 4\", and push the changes to GitHub.\n",
    "\n",
    "---"
   ]
  },
  {
   "cell_type": "markdown",
   "metadata": {
    "id": "vxqYo82dJ-tO"
   },
   "source": [
    "---\n",
    "## 5. Using Principal Components (10 points)\n",
    "\n",
    "The full model uses all 4 iris features to predict the results and you likely found that the model is pretty accurate using all 4 features. But in some cases, we might have significantly more features (which means much more computational time!), and we might not need nearly the level of accuracy we can achieve with the full data set or we might not have enough computational resources to use **all** of the features.\n",
    "\n",
    "In such situations, we might need to see how close we can get with fewer features. But instead of simply removing features, we will use a PCA to determine the features that contribute the most the model (through their accounted variance) and use those to build our SVC model. We did this to improve our classification with the \"faces\" dataset in the **Day 21 assignment**.\n",
    "\n",
    "### 5.1 Running a Principle Component Analysis (PCA)\n",
    "\n",
    "Since we only have 4 total features to start with, let's see how well we can do if we try to cut this aggressively reduce the feature count and use only **1** principle component. We'll see how well we can predict the classes of the iris dataset with just these two!\n",
    "\n",
    "**&#9989; Task 5.1 (3 points):**  Using `PCA()` and the associated `fit()` method, run a principle component analysis to your training features using only 2 components. Transform both the test and training features using the result of your PCA. Print the `explained_variance_ratio_`."
   ]
  },
  {
   "cell_type": "code",
   "execution_count": 242,
   "metadata": {
    "colab": {
     "base_uri": "https://localhost:8080/"
    },
    "id": "HtzCdKAjJ-tO",
    "outputId": "6fecd614-543f-46bf-808f-2714274b0bb8"
   },
   "outputs": [
    {
     "name": "stdout",
     "output_type": "stream",
     "text": [
      "explained_variance_ratio_ = [0.92321696]\n",
      "112 38\n"
     ]
    }
   ],
   "source": [
    "pca_model = PCA(n_components=1)\n",
    "pca_model.fit(x_train)\n",
    "print(\"explained_variance_ratio_ =\", pca_model.explained_variance_ratio_)\n",
    "\n",
    "pca_x_train = pca_model.transform(x_train)\n",
    "pca_x_test = pca_model.transform(x_test)\n",
    "print(len(pca_x_train), len(pca_x_test))\n",
    "# print(pca_x_train, pca_x_test)"
   ]
  },
  {
   "cell_type": "markdown",
   "metadata": {
    "id": "VSG749kSJ-tP"
   },
   "source": [
    "&#9989; **Question 5.1 (1 point):** What is the total explained variance ratio captured by this simple 1-component PCA? (just quote the number) How well do you think a model with this many feature will perform? Why?"
   ]
  },
  {
   "cell_type": "markdown",
   "metadata": {
    "id": "ABIUNwE1J-tP"
   },
   "source": [
    "<font size=+3>&#9998;</font> **explained_variance_ratio = 0.9232. I think this model will perform well. Because it is the percentage of the variance explained by selected 1 component only.**"
   ]
  },
  {
   "cell_type": "markdown",
   "metadata": {
    "id": "RhxLWyn0J-tQ"
   },
   "source": [
    "### 5.2 Fit and Evaluate an SVC model\n",
    "\n",
    "Using the pca transformed features, we will train and test an SVC model using the \"best estimators\" you found previously.\n",
    "\n",
    "**&#9989; Task 5.2 (2 points):**  Using the PCA transformed training data, build and train an SVC model using the best estimate values from before. Predict the classes using the PCA transformed test data. Evaluate the model using the classfication report, and the confusion matrix."
   ]
  },
  {
   "cell_type": "code",
   "execution_count": 243,
   "metadata": {
    "colab": {
     "base_uri": "https://localhost:8080/"
    },
    "id": "cYWhy4lwJ-tS",
    "outputId": "07b0b656-2349-4294-ae5b-66477130570d"
   },
   "outputs": [
    {
     "name": "stdout",
     "output_type": "stream",
     "text": [
      "Classification Report\n",
      "======================\n",
      "              precision    recall  f1-score   support\n",
      "\n",
      "     class 0       1.00      1.00      1.00        14\n",
      "     class 1       1.00      0.75      0.86        12\n",
      "     class 2       0.80      1.00      0.89        12\n",
      "\n",
      "    accuracy                           0.92        38\n",
      "   macro avg       0.93      0.92      0.92        38\n",
      "weighted avg       0.94      0.92      0.92        38\n",
      "\n",
      "Confusion Matrix\n",
      "======================\n",
      "[[14  0  0]\n",
      " [ 0  9  3]\n",
      " [ 0  0 12]]\n"
     ]
    }
   ],
   "source": [
    "linear_svc_model2 = SVC(C=10, gamma=1e-06, kernel='linear')\n",
    "linear_svc_model2.fit(pca_x_train, y_train)\n",
    "y_predicted = linear_svc_model2.predict(pca_x_test)\n",
    "target_names = ['class 0', 'class 1', 'class 2']\n",
    "\n",
    "print(\"Classification Report\")\n",
    "print(\"======================\")\n",
    "print(classification_report(y_test, y_predicted, target_names=target_names))\n",
    "\n",
    "print(\"Confusion Matrix\")\n",
    "print(\"======================\")\n",
    "print(confusion_matrix(y_test, y_predicted))"
   ]
  },
  {
   "cell_type": "markdown",
   "metadata": {
    "id": "LaYRFnT5J-tS"
   },
   "source": [
    "&#9989; **Question 5.2 (1 point):** How accurate is this model? What evidence are you using to determine that? How many false positives and false negatives does it predict? How does it compare to the full feature model?"
   ]
  },
  {
   "cell_type": "markdown",
   "metadata": {
    "id": "lWd3vG4XJ-tT"
   },
   "source": [
    "<font size=+3>&#9998;</font> **From the classification report, model accuracy is found to be around 92%. It predicted a total of 3 false positive and false negatives out of 38 test cases. And (3/38)*100 = 7.9% so 100 - 7.9% = 92% (approx.) is actcually our model accuracy.**"
   ]
  },
  {
   "cell_type": "markdown",
   "metadata": {
    "id": "X23jawLmJ-tT"
   },
   "source": [
    "### 5.3 Repeat your analysis with more components\n",
    "\n",
    "You probably found that the model with just 1 features didn't actually do too bad, which is pretty impressive. That said, can we do better?\n",
    "\n",
    "What if we increase the number of principle components to **2**? What happens now?\n",
    "\n",
    "**&#9989; Task 5.3 (2 points):** Repeat your analysis from 5.1 and 5.2 using **2 components** instead. As part of your analysis, **print the total explained variance ratio for both components as well as the sum of these values**."
   ]
  },
  {
   "cell_type": "code",
   "execution_count": 244,
   "metadata": {
    "colab": {
     "base_uri": "https://localhost:8080/"
    },
    "id": "Y3ua4RbfJ-tT",
    "outputId": "f8e9c3d3-e524-40b5-9b6c-7946e95b61a9"
   },
   "outputs": [
    {
     "name": "stdout",
     "output_type": "stream",
     "text": [
      "explained_variance_ratio_ = [0.92321696 0.05442265]\n",
      "Sum of explained_variance_ratio_ = 0.9776396024180721\n",
      "Classification Report\n",
      "======================\n",
      "              precision    recall  f1-score   support\n",
      "\n",
      "     class 0       1.00      1.00      1.00        14\n",
      "     class 1       1.00      0.92      0.96        12\n",
      "     class 2       0.92      1.00      0.96        12\n",
      "\n",
      "    accuracy                           0.97        38\n",
      "   macro avg       0.97      0.97      0.97        38\n",
      "weighted avg       0.98      0.97      0.97        38\n",
      "\n",
      "Confusion Matrix\n",
      "======================\n",
      "[[14  0  0]\n",
      " [ 0 11  1]\n",
      " [ 0  0 12]]\n"
     ]
    }
   ],
   "source": [
    "pca_model2 = PCA(n_components=2)\n",
    "pca_model2.fit(x_train)\n",
    "print(\"explained_variance_ratio_ =\", pca_model2.explained_variance_ratio_)\n",
    "print(\"Sum of explained_variance_ratio_ =\", np.sum(pca_model2.explained_variance_ratio_))\n",
    "\n",
    "pca_x_train2 = pca_model2.transform(x_train)\n",
    "pca_x_test2 = pca_model2.transform(x_test)\n",
    "\n",
    "linear_svc_model2 = SVC(C=10, gamma=1e-06, kernel='linear')\n",
    "linear_svc_model2.fit(pca_x_train2, y_train)\n",
    "y_predicted = linear_svc_model2.predict(pca_x_test2)\n",
    "target_names = ['class 0', 'class 1', 'class 2']\n",
    "\n",
    "print(\"Classification Report\")\n",
    "print(\"======================\")\n",
    "print(classification_report(y_test, y_predicted, target_names=target_names))\n",
    "\n",
    "print(\"Confusion Matrix\")\n",
    "print(\"======================\")\n",
    "print(confusion_matrix(y_test, y_predicted))"
   ]
  },
  {
   "cell_type": "markdown",
   "metadata": {
    "id": "6v4GjNfwJ-tU"
   },
   "source": [
    "&#9989; **Question 5.3 (1 point):** What is the total explained variance ratio captured by this PCA? How accurate is this model? What evidence are you using to determine that? How many false positives and false negatives does it predict? How does it compare to the 1 PCA component model? To the full feature model?"
   ]
  },
  {
   "cell_type": "markdown",
   "metadata": {
    "id": "fRbkj-qWJ-tU"
   },
   "source": [
    "<font size=+3>&#9998;</font> **Total explained_variance_ratio_ is 0.9776 and it is the percentage of the variance explained by selected 2-components only. From the classification report, model accuracy is found to be around 97%. It predicted a total of 1 false positive and false negative out of 38 test cases. And (1/38)*100 = 2.6% so 100 - 2.6% = 97% (approx.) is actcually our model accuracy. Compared to 1-pca component model, 5% accuracy is increased and FPs and FNs are reduced from 4 to 1. 2-pca component model also performs better than the full feature model with best estimators.**"
   ]
  },
  {
   "cell_type": "markdown",
   "metadata": {
    "id": "giuMioGVJ-tU"
   },
   "source": [
    "---\n",
    "### &#128721; STOP\n",
    "**Pause to commit your changes to your Git repository!**\n",
    "\n",
    "Take a moment to save your notebook, commit the changes to your Git repository using the commit message \"Committing Part 5\", and push the changes to GitHub.\n",
    "\n",
    "---"
   ]
  },
  {
   "cell_type": "markdown",
   "metadata": {
    "id": "XPYTx2PtJ-tV"
   },
   "source": [
    "---\n",
    "## 6. How well does PCA work? (12 points)\n",
    "\n",
    "Clearly, the number of components we use in our PCA matters. Let's investigate how they matter by systematically building a model for any number of selected components. While this might seem a bit unnecessary for such a simple dataset, **this can be very useful for more complex datasets and models!**\n",
    "\n",
    "### 6.1 Accuracy vs. Components\n",
    "\n",
    "To systematically explore how well PCA improves our classification model, we will do this by writing a function that creates the PCA, the SVC model, fits the training data, predict the labels using test data, and returns the accuracy scores and the explained variance ratio. So your function will take as input:\n",
    "* the number of request PCA components\n",
    "* the training feature data\n",
    "* the testing feature data\n",
    "* the training data labels\n",
    "* the test data labels\n",
    "and it will return the accuracy score for an SVC model fit to pca transformed features and the **total** explained variance ratio.\n",
    "\n",
    "**&#9989; Task 6.1 (4 points):** Create this function, which you will use in the next section."
   ]
  },
  {
   "cell_type": "code",
   "execution_count": 245,
   "metadata": {
    "id": "tex6uewUJ-tV"
   },
   "outputs": [],
   "source": [
    "def svm_on_pca_transform(train_features, test_features, train_labels, test_labels, n_pca_components=1):\n",
    "  from sklearn.svm import SVC\n",
    "  from sklearn.decomposition import PCA\n",
    "  from sklearn.metrics import accuracy_score\n",
    "\n",
    "  pca = PCA(n_components=n_pca_components)\n",
    "  pca.fit(train_features)\n",
    "  pca_explained_variance_ratio = round(np.sum(pca.explained_variance_ratio_), 2)\n",
    "\n",
    "  pca_x_train = pca.transform(train_features)\n",
    "  pca_x_test = pca.transform(test_features)\n",
    "\n",
    "  linear_svc = SVC(C=10, gamma=1e-06, kernel='linear')\n",
    "  linear_svc.fit(pca_x_train, train_labels)\n",
    "  y_predicted = linear_svc.predict(pca_x_test)\n",
    "  svm_accuracy = round(accuracy_score(test_labels, y_predicted), 2)\n",
    "\n",
    "  return svm_accuracy, pca_explained_variance_ratio\n"
   ]
  },
  {
   "cell_type": "markdown",
   "metadata": {
    "id": "nThVFuV7J-tW"
   },
   "source": [
    "### 6.2 Compute accuracies\n",
    "\n",
    "Now that you have created a function that returns the accuracy for a given number of components, we will use that to plot the how the accuracy of your SVC model changes when we increase the number of components used in the PCA.\n",
    "\n",
    "**&#9989; Task 6.2 (2 points):** For 1 through 4 components, use your function above to compute and store (as a list) the accuracy of your models and the total explained variance ratio of your models."
   ]
  },
  {
   "cell_type": "code",
   "execution_count": 246,
   "metadata": {
    "id": "Hl6tm2m8J-tW"
   },
   "outputs": [],
   "source": [
    "list_accuracy = []\n",
    "list_variance_ratio = []\n",
    "n_components = list(range(1,5))\n",
    "\n",
    "for n in range(1, 5):\n",
    "  accuracy, variance_ratio = svm_on_pca_transform(x_train, x_test, y_train, y_test, n_pca_components=n)\n",
    "  list_accuracy.append(accuracy)\n",
    "  list_variance_ratio.append(variance_ratio)"
   ]
  },
  {
   "cell_type": "code",
   "execution_count": 247,
   "metadata": {
    "colab": {
     "base_uri": "https://localhost:8080/"
    },
    "id": "RPZhhBUSt_wg",
    "outputId": "720c4822-5b0f-4138-f4dd-21694fa9f57f"
   },
   "outputs": [
    {
     "name": "stdout",
     "output_type": "stream",
     "text": [
      "[0.92, 0.97, 0.95, 0.95] [0.92, 0.98, 1.0, 1.0]\n"
     ]
    }
   ],
   "source": [
    "print(list_accuracy, list_variance_ratio)"
   ]
  },
  {
   "cell_type": "markdown",
   "metadata": {
    "id": "lncMnjRRJ-tW"
   },
   "source": [
    "### 6.3 Plot accuracy vs number of components\n",
    "\n",
    "Now that we have those numbers, it makes sense to look at the accuracy vs # of components.\n",
    "\n",
    "**&#9989; Task 6.3 (2 points):** Plot the accuracy vs # of components."
   ]
  },
  {
   "cell_type": "code",
   "execution_count": 248,
   "metadata": {
    "colab": {
     "base_uri": "https://localhost:8080/",
     "height": 295
    },
    "id": "A_Xofr_hJ-tX",
    "outputId": "58fc94dd-9529-4076-e634-bd4489374586"
   },
   "outputs": [
    {
     "data": {
      "image/png": "[encoded data removed]",
      "text/plain": [
       "<Figure size 432x288 with 1 Axes>"
      ]
     },
     "metadata": {
      "needs_background": "light",
      "tags": []
     },
     "output_type": "display_data"
    }
   ],
   "source": [
    "plt.plot(n_components, list_accuracy)\n",
    "plt.title(\"Accuracy vs # of components\")\n",
    "plt.xlabel(\"# of components\")\n",
    "plt.ylabel(\"Accuracy\")\n",
    "plt.xticks(n_components)\n",
    "plt.show()"
   ]
  },
  {
   "cell_type": "markdown",
   "metadata": {
    "id": "PrcWH4FvJ-tX"
   },
   "source": [
    "**&#9989; Question 6.1 (1 point):** Where does it seem like we have diminishing returns? That is, at what point is there no major increase in accuracy (or perhaps the accuracy is decreased) as we add additional components to the PCA?"
   ]
  },
  {
   "cell_type": "markdown",
   "metadata": {
    "id": "s4BFYeyxJ-tY"
   },
   "source": [
    "<font size=+3>&#9998;</font> **For number of PCA components = 3 or more, accuracy of the model started decreasing (95% from 97% at 2-pca components). For number of PCA components = 2, we achieved the highest accuracy (97%).**"
   ]
  },
  {
   "cell_type": "markdown",
   "metadata": {
    "id": "LvITZSpgJ-tY"
   },
   "source": [
    "### 6.4 Plot total explained variance vs number of components\n",
    "\n",
    "What if we look at total explained variance as a function of # of components?\n",
    "\n",
    "**&#9989; Task 6.4 (2 points):** Plot the total explained variance ratio vs # of components. "
   ]
  },
  {
   "cell_type": "code",
   "execution_count": 249,
   "metadata": {
    "colab": {
     "base_uri": "https://localhost:8080/",
     "height": 295
    },
    "id": "320GZXhwJ-tZ",
    "outputId": "3e0d58c0-d99b-4d0f-de41-4030a06439c3"
   },
   "outputs": [
    {
     "data": {
      "image/png": "[encoded data removed]",
      "text/plain": [
       "<Figure size 432x288 with 1 Axes>"
      ]
     },
     "metadata": {
      "needs_background": "light",
      "tags": []
     },
     "output_type": "display_data"
    }
   ],
   "source": [
    "plt.plot(n_components, list_variance_ratio)\n",
    "plt.title(\"PCA total explained variance ratio vs # of components\")\n",
    "plt.xlabel(\"# of components\")\n",
    "plt.ylabel(\"PCA total explained variance ratio\")\n",
    "plt.xticks(n_components)\n",
    "plt.show()"
   ]
  },
  {
   "cell_type": "markdown",
   "metadata": {
    "id": "b6JV3JMGJ-tZ"
   },
   "source": [
    "**&#9989; Question 6.2 (1 points):** Where does it seem like we have diminishing returns, that is, no major increase in explained variance as we add additional components to the PCA? How does that number of components compare to the diminishing returns for accuracy?"
   ]
  },
  {
   "cell_type": "markdown",
   "metadata": {
    "id": "DX0fhrpoJ-tZ"
   },
   "source": [
    "<font size=+3>&#9998;</font> **For number of PCA components = 4, explained variance ratio had no effect as compared to number of PCA components = 3 which had already explained 100% variance ratio. We are getting a maximum accuracy 97% for 2 components even though it is not explaining all of the variance in the data. Whereas we are getting a slightly lower accuracy when our number of selected pca components is 3 which explains all of the variance in the data.**"
   ]
  },
  {
   "cell_type": "markdown",
   "metadata": {
    "id": "JpRVwgiAJ-ta"
   },
   "source": [
    "---\n",
    "### &#128721; STOP\n",
    "**Pause to commit your changes to your Git repository!**\n",
    "\n",
    "Take a moment to save your notebook, commit the changes to your Git repository using the commit message \"Committing Part 6\", and push the changes to GitHub.\n",
    "\n",
    "---"
   ]
  },
  {
   "cell_type": "markdown",
   "metadata": {
    "id": "KZss7_9iJ-ta"
   },
   "source": [
    "---\n",
    "## 7. Bonus exercise: visualizing the decision boundaries for a portion of the feature space (2 *bonus* points)\n",
    "\n",
    "As you might imagine, visualizing decision boundaries with for a multidimensional feature space can be a challenge! That said, when trying to build some intuition about how these classifiers work, visualing 2D decisions boundaries can be useful.\n",
    "\n",
    "To earn some _extra points_ on this assignment try using the [following example](https://scikit-learn.org/stable/auto_examples/svm/plot_iris_svc.html) as a guide to visualize the decision boundary for your \"best estimator\" parameters using your **2 PCA components** as your training features. **To be clear, you should be using your PCA component data and your best fit parameters, you should not just be running the example!** You should be able to get a plot that looks something like this:\n",
    "\n",
    "<img src=\"https://i.ibb.co/wL4xHGb/pca-boundaries.png\" alt=\"pca-boundaries\" border=\"0\">\n",
    "\n",
    "Since we didn't explicitly cover this in class, **you do not have to complete this part of the assignment unless you would like the extra credit points**.\n",
    "\n",
    "**&#9989; Task 7.1 (2 *extra* points):** Try to create a plot of the decision boundaries for the 2 principle components using your \"best estimator\" parameters."
   ]
  },
  {
   "cell_type": "code",
   "execution_count": 250,
   "metadata": {
    "colab": {
     "base_uri": "https://localhost:8080/",
     "height": 296
    },
    "id": "XeAdDE27J-tb",
    "outputId": "d91fc299-239f-40d5-d14c-aad04e3376f2"
   },
   "outputs": [
    {
     "name": "stdout",
     "output_type": "stream",
     "text": [
      "explained_variance_ratio_ = [0.92321696 0.05442265]\n",
      "Sum of explained_variance_ratio_ = 0.9776396024180721\n"
     ]
    },
    {
     "data": {
      "image/png": "[encoded data removed]",
      "text/plain": [
       "<Figure size 432x288 with 1 Axes>"
      ]
     },
     "metadata": {
      "tags": []
     },
     "output_type": "display_data"
    }
   ],
   "source": [
    "def make_meshgrid(x, y, h=.02):\n",
    "    \"\"\"Create a mesh of points to plot in\n",
    "\n",
    "    Parameters\n",
    "    ----------\n",
    "    x: data to base x-axis meshgrid on\n",
    "    y: data to base y-axis meshgrid on\n",
    "    h: stepsize for meshgrid, optional\n",
    "\n",
    "    Returns\n",
    "    -------\n",
    "    xx, yy : ndarray\n",
    "    \"\"\"\n",
    "    x_min, x_max = x.min() - 1, x.max() + 1\n",
    "    y_min, y_max = y.min() - 1, y.max() + 1\n",
    "    xx, yy = np.meshgrid(np.arange(x_min, x_max, h),\n",
    "                         np.arange(y_min, y_max, h))\n",
    "    return xx, yy\n",
    "\n",
    "\n",
    "def plot_contours(ax, clf, xx, yy, **params):\n",
    "    \"\"\"Plot the decision boundaries for a classifier.\n",
    "\n",
    "    Parameters\n",
    "    ----------\n",
    "    ax: matplotlib axes object\n",
    "    clf: a classifier\n",
    "    xx: meshgrid ndarray\n",
    "    yy: meshgrid ndarray\n",
    "    params: dictionary of params to pass to contourf, optional\n",
    "    \"\"\"\n",
    "    Z = clf.predict(np.c_[xx.ravel(), yy.ravel()])\n",
    "    Z = Z.reshape(xx.shape)\n",
    "    out = ax.contourf(xx, yy, Z, **params)\n",
    "    return out\n",
    "\n",
    "\n",
    "pca_model2 = PCA(n_components=2)\n",
    "pca_model2.fit(x_train)\n",
    "print(\"explained_variance_ratio_ =\", pca_model2.explained_variance_ratio_)\n",
    "print(\"Sum of explained_variance_ratio_ =\", np.sum(pca_model2.explained_variance_ratio_))\n",
    "\n",
    "pca_x_train2 = pca_model2.transform(x_train)\n",
    "pca_x_test2 = pca_model2.transform(x_test)\n",
    "\n",
    "linear_svc_model2 = SVC(C=10, gamma=1e-06, kernel='linear')\n",
    "linear_svc_model2.fit(pca_x_train2, y_train)\n",
    "y_predicted = linear_svc_model2.predict(pca_x_test2)\n",
    "\n",
    "X0, X1 = pca_x_train2[:, 0], pca_x_train2[:, 1]\n",
    "xx, yy = make_meshgrid(X0, X1)\n",
    "\n",
    "ax = plt.axes()\n",
    "plot_contours(ax, linear_svc_model2, xx, yy, cmap=plt.cm.coolwarm, alpha=0.8)\n",
    "ax.scatter(X0, X1, c=y_train, cmap=plt.cm.coolwarm, s=20, edgecolors='k')\n",
    "ax.set_xlabel('PCA Component 1')\n",
    "ax.set_ylabel('PCA Component 2')\n",
    "ax.set_xlim(xx.min(), xx.max())\n",
    "ax.set_ylim(yy.min(), yy.max())\n",
    "ax.set_xticks(())\n",
    "ax.set_yticks(())\n",
    "\n",
    "plt.show()"
   ]
  },
  {
   "cell_type": "markdown",
   "metadata": {
    "id": "ORUXlnZdJ-tb"
   },
   "source": [
    "---\n",
    "## Assignment wrap-up¶\n",
    "Please fill out the form that appears when you run the code below. **You must completely fill this out in order to receive credit for the assignment!**"
   ]
  },
  {
   "cell_type": "code",
   "execution_count": 251,
   "metadata": {
    "colab": {
     "base_uri": "https://localhost:8080/",
     "height": 621
    },
    "id": "q5paVC8xJ-tc",
    "outputId": "2a4f8492-7b23-4068-abb4-9d108db39678"
   },
   "outputs": [
    {
     "data": {
      "text/html": [
       "\n",
       "<iframe \n",
       "\tsrc=\"https://forms.office.com/Pages/ResponsePage.aspx?id=MHEXIi9k2UGSEXQjetVofddd5T-Pwn1DlT6_yoCyuCFUNFFCRjgzN0JOTUFJQVNLR0VMQUZNNlVCTy4u\" \n",
       "\twidth=\"800px\" \n",
       "\theight=\"600px\" \n",
       "\tframeborder=\"0\" \n",
       "\tmarginheight=\"0\" \n",
       "\tmarginwidth=\"0\">\n",
       "\tLoading...\n",
       "</iframe>\n"
      ],
      "text/plain": [
       "<IPython.core.display.HTML object>"
      ]
     },
     "execution_count": 251,
     "metadata": {
      "tags": []
     },
     "output_type": "execute_result"
    }
   ],
   "source": [
    "from IPython.display import HTML\n",
    "HTML(\n",
    "\"\"\"\n",
    "<iframe \n",
    "\tsrc=\"https://forms.office.com/Pages/ResponsePage.aspx?id=MHEXIi9k2UGSEXQjetVofddd5T-Pwn1DlT6_yoCyuCFUNFFCRjgzN0JOTUFJQVNLR0VMQUZNNlVCTy4u\" \n",
    "\twidth=\"800px\" \n",
    "\theight=\"600px\" \n",
    "\tframeborder=\"0\" \n",
    "\tmarginheight=\"0\" \n",
    "\tmarginwidth=\"0\">\n",
    "\tLoading...\n",
    "</iframe>\n",
    "\"\"\"\n",
    ")"
   ]
  },
  {
   "cell_type": "markdown",
   "metadata": {
    "id": "QZ14XhH9J-tc"
   },
   "source": [
    "### Congratulations, you're done!\n",
    "Submit this assignment by uploading it to the course Desire2Learn web page. Go to the \"Homework Assignments\" folder, find the submission folder for Homework #5, and upload your notebook."
   ]
  }
 ],
 "metadata": {
  "colab": {
   "name": "HW-05_SVMandPCA-STUDENT.ipynb",
   "provenance": []
  },
  "kernelspec": {
   "display_name": "Python 3",
   "language": "python",
   "name": "python3"
  },
  "language_info": {
   "codemirror_mode": {
    "name": "ipython",
    "version": 3
   },
   "file_extension": ".py",
   "mimetype": "text/x-python",
   "name": "python",
   "nbconvert_exporter": "python",
   "pygments_lexer": "ipython3",
   "version": "3.8.5"
  }
 },
 "nbformat": 4,
 "nbformat_minor": 1
}
